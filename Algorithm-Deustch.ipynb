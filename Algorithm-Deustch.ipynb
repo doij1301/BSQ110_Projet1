{
 "cells": [
  {
   "cell_type": "markdown",
   "source": [
    "# Algorithme de Deustch"
   ],
   "metadata": {
    "collapsed": false
   }
  },
  {
   "cell_type": "code",
   "execution_count": 1,
   "outputs": [],
   "source": [
    "from qiskit import QuantumCircuit, QuantumRegister, ClassicalRegister\n",
    "from qiskit import Aer, execute, transpile\n",
    "import qiskit.quantum_info as qi\n",
    "from qiskit import IBMQ\n",
    "from qiskit.tools import job_monitor\n",
    "from qiskit.providers.ibmq import least_busy\n",
    "from FonctionsCommune import *"
   ],
   "metadata": {
    "collapsed": false
   }
  },
  {
   "cell_type": "markdown",
   "source": [
    "Fonction qui construit le circuit quantique d'un oracle"
   ],
   "metadata": {
    "collapsed": false
   }
  },
  {
   "cell_type": "code",
   "execution_count": 2,
   "outputs": [
    {
     "data": {
      "text/plain": "<Figure size 203.683x200.667 with 1 Axes>",
      "image/png": "[encoded data removed]"
     },
     "execution_count": 2,
     "metadata": {},
     "output_type": "execute_result"
    }
   ],
   "source": [
    "# Le numéro de l'oracle correspond au numéro d'une des quatre fonction binaire présentes à la page 67 des notes de cours\n",
    "def oracle_f(num_oracle):\n",
    "    qreg = QuantumRegister(2, \"q\")\n",
    "    circuit = QuantumCircuit(qreg)\n",
    "\n",
    "    if num_oracle == 0:\n",
    "        return circuit\n",
    "    elif num_oracle == 1:\n",
    "        circuit.cx(0, 1)\n",
    "        return circuit\n",
    "    elif num_oracle == 2:\n",
    "        circuit.x(0)\n",
    "        circuit.cx(0, 1)\n",
    "        circuit.x(0)\n",
    "        return circuit\n",
    "    elif num_oracle == 3:\n",
    "        circuit.x(1)\n",
    "        return circuit\n",
    "    else:\n",
    "        print(\"Veuillez entrer un numéro entre 0 et 3 dans la fonction oracle_f()\")\n",
    "\n",
    "\n",
    "oracle_f(1).draw('mpl')"
   ],
   "metadata": {
    "collapsed": false
   }
  },
  {
   "cell_type": "markdown",
   "source": [
    "Fonction qui construit le circuit quantique de l'algorithme"
   ],
   "metadata": {
    "collapsed": false
   }
  },
  {
   "cell_type": "code",
   "execution_count": 3,
   "outputs": [
    {
     "data": {
      "text/plain": "<Figure size 663.998x284.278 with 1 Axes>",
      "image/png": "[encoded data removed]"
     },
     "execution_count": 3,
     "metadata": {},
     "output_type": "execute_result"
    }
   ],
   "source": [
    "def circuit_Deutch_f(num_oracle):\n",
    "    qreg = QuantumRegister(2, \"q\")\n",
    "    creg = ClassicalRegister(1, \"meas\")\n",
    "\n",
    "    circuit = QuantumCircuit(qreg, creg)\n",
    "    oracle_gate = oracle_f(num_oracle).to_gate(label = f\"Uf({num_oracle})\") # À changer si on veut cacher le numéro de l'oracle\n",
    "\n",
    "    circuit.x(1)\n",
    "    circuit.h([0, 1])\n",
    "    circuit.append(oracle_gate, [0, 1])\n",
    "    circuit.h(0)\n",
    "\n",
    "    circuit.measure(0, 0)\n",
    "\n",
    "    return circuit\n",
    "\n",
    "circuit_Deutch_f(1).draw(\"mpl\")"
   ],
   "metadata": {
    "collapsed": false
   }
  },
  {
   "cell_type": "markdown",
   "source": [
    "Simulation des circuits quantiques"
   ],
   "metadata": {
    "collapsed": false
   }
  },
  {
   "cell_type": "code",
   "execution_count": 4,
   "outputs": [
    {
     "name": "stdout",
     "output_type": "stream",
     "text": [
      "{'0': 1000}\n"
     ]
    }
   ],
   "source": [
    "qasm_simulator = Aer.get_backend('qasm_simulator')\n",
    "job = execute(circuit_Deutch_f(3), qasm_simulator, shots = 1000)\n",
    "counts = job.result().get_counts()\n",
    "print(counts)"
   ],
   "metadata": {
    "collapsed": false
   }
  },
  {
   "cell_type": "markdown",
   "source": [
    "Exécution sur un ordinateur quantique de IBM"
   ],
   "metadata": {
    "collapsed": false
   }
  },
  {
   "cell_type": "code",
   "execution_count": null,
   "outputs": [
    {
     "name": "stdout",
     "output_type": "stream",
     "text": [
      "ibmq_lima\n",
      "ibmq_belem\n",
      "ibmq_quito\n",
      "ibmq_manila\n",
      "ibm_nairobi\n",
      "ibm_oslo\n",
      "Job Status: job is queued (6)     "
     ]
    }
   ],
   "source": [
    "#execution_ibmq(circuit_Deutch_f(3))"
   ],
   "metadata": {
    "collapsed": false
   }
  }
 ],
 "metadata": {
  "kernelspec": {
   "display_name": "Python 3",
   "language": "python",
   "name": "python3"
  },
  "language_info": {
   "codemirror_mode": {
    "name": "ipython",
    "version": 2
   },
   "file_extension": ".py",
   "mimetype": "text/x-python",
   "name": "python",
   "nbconvert_exporter": "python",
   "pygments_lexer": "ipython2",
   "version": "2.7.6"
  }
 },
 "nbformat": 4,
 "nbformat_minor": 0
}
