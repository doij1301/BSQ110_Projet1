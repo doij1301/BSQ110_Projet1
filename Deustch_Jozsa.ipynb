{
 "cells": [
  {
   "cell_type": "markdown",
   "source": [
    "# Algorithme de Deustch_Joza"
   ],
   "metadata": {
    "collapsed": false
   }
  },
  {
   "cell_type": "code",
   "execution_count": 1,
   "outputs": [],
   "source": [
    "from qiskit import QuantumCircuit, QuantumRegister, ClassicalRegister\n",
    "from qiskit import Aer, execute, transpile"
   ],
   "metadata": {
    "collapsed": false
   }
  },
  {
   "cell_type": "markdown",
   "source": [
    "Fonction qui construit le circuit quantique d'un oracle"
   ],
   "metadata": {
    "collapsed": false
   }
  },
  {
   "cell_type": "code",
   "execution_count": 3,
   "outputs": [
    {
     "data": {
      "text/plain": "<Figure size 203.885x535.111 with 1 Axes>",
      "image/png": "[encoded data removed]"
     },
     "execution_count": 3,
     "metadata": {},
     "output_type": "execute_result"
    }
   ],
   "source": [
    "# 1 : Vide\n",
    "# 2 : X en bas\n",
    "# 3 : Une porte X cnot X à 1 qbit\n",
    "def oracle_Deustch_Joza_constantes(nb_qbits, num_fonction):\n",
    "    qreg = QuantumRegister(nb_qbits+1, \"q\")\n",
    "    circuit = QuantumCircuit(qreg)\n",
    "    if num_fonction == 1:\n",
    "        circuit.x(nb_qbits)\n",
    "\n",
    "    return circuit\n",
    "def oracle_Deustch_Joza_balence(nb_qbits, num_fonction):\n",
    "    qreg = QuantumRegister(nb_qbits+1, \"q\")\n",
    "    circuit = QuantumCircuit(qreg)\n",
    "    circuit.cnot(0, 1)\n",
    "    if num_fonction == 1:\n",
    "        circuit.x(nb_qbits)\n",
    "    return circuit\n",
    "\n",
    "\n",
    "oracle_Deustch_Joza_constantes(5, 1).draw(\"mpl\")"
   ],
   "metadata": {
    "collapsed": false
   }
  },
  {
   "cell_type": "code",
   "execution_count": null,
   "outputs": [],
   "source": [],
   "metadata": {
    "collapsed": false
   }
  }
 ],
 "metadata": {
  "kernelspec": {
   "display_name": "Python 3",
   "language": "python",
   "name": "python3"
  },
  "language_info": {
   "codemirror_mode": {
    "name": "ipython",
    "version": 2
   },
   "file_extension": ".py",
   "mimetype": "text/x-python",
   "name": "python",
   "nbconvert_exporter": "python",
   "pygments_lexer": "ipython2",
   "version": "2.7.6"
  }
 },
 "nbformat": 4,
 "nbformat_minor": 0
}
