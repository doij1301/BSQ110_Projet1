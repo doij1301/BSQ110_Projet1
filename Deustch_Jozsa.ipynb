{
 "cells": [
  {
   "cell_type": "markdown",
   "source": [
    "# Algorithme de Deustch_Joza"
   ],
   "metadata": {
    "collapsed": false
   }
  },
  {
   "cell_type": "code",
   "execution_count": 1,
   "outputs": [],
   "source": [
    "from qiskit import QuantumCircuit, QuantumRegister, ClassicalRegister\n",
    "from qiskit import Aer, execute, transpile"
   ],
   "metadata": {
    "collapsed": false
   }
  },
  {
   "cell_type": "markdown",
   "source": [
    "Fonction qui construit le circuit quantique d'un oracle"
   ],
   "metadata": {
    "collapsed": false
   }
  },
  {
   "cell_type": "code",
   "execution_count": 85,
   "outputs": [
    {
     "data": {
      "text/plain": "<Figure size 287.496x367.889 with 1 Axes>",
      "image/png": "[encoded data removed]"
     },
     "execution_count": 85,
     "metadata": {},
     "output_type": "execute_result"
    }
   ],
   "source": [
    "# Constante est vrai si la fonction est constante et fause si la fonction est balancé\n",
    "# Si num_fonction n'est pas entré, le numéro sera choisis au hasard\n",
    "def oracle_Deustch_Joza(nb_qbits, constante, num_fonction):\n",
    "    qreg = QuantumRegister(nb_qbits+1, \"q\")\n",
    "    circuit = QuantumCircuit(qreg)\n",
    "    if constante == True:\n",
    "        if num_fonction == 1:\n",
    "            circuit.x(nb_qbits)\n",
    "        elif num_fonction != 0:\n",
    "            print(\"Il y a uniquement 2 fonction constantes (0 et 1). On suppose que vous avez entré 0\")\n",
    "\n",
    "    elif constante == False:\n",
    "        factorial_nb_qbit = 1\n",
    "        for i in range(1, nb_qbits+1):\n",
    "            factorial_nb_qbit *= i\n",
    "\n",
    "        #Numéro de la fonction en binaire (les numéros commence à 1, car on veut avoir au moins un 1 dans la chaine de charactère pour avoir une porte cnot)\n",
    "        if num_fonction < factorial_nb_qbit+1:\n",
    "            bit_string = f\"{num_fonction+1:0{nb_qbits}b}\"\n",
    "\n",
    "        #Si le numéro est assez grand, on applique une porte x au dernier qbit et on convertie en binaire pour savoir à quel endroit on veut appliquer les portes cnot\n",
    "        elif num_fonction < (factorial_nb_qbit+1) * 2:\n",
    "            circuit.x(nb_qbits)\n",
    "            bit_string = f\"{num_fonction-factorial_nb_qbit:0{nb_qbits}b}\"\n",
    "\n",
    "\n",
    "        #Si le numéro est trop grand\n",
    "        else:\n",
    "            print(\"Le numéro de la fonction est trop élevé\")\n",
    "\n",
    "        # On ajoute les portes cnot\n",
    "        for i in range(nb_qbits):\n",
    "            if bit_string[i] == \"1\":\n",
    "                circuit.cnot(nb_qbits - 1 - i, nb_qbits)\n",
    "\n",
    "    return circuit\n",
    "\n",
    "\n",
    "oracle_Deustch_Joza(3, False, 4).draw(\"mpl\")"
   ],
   "metadata": {
    "collapsed": false
   }
  },
  {
   "cell_type": "code",
   "execution_count": 49,
   "outputs": [
    {
     "name": "stdout",
     "output_type": "stream",
     "text": [
      "720\n"
     ]
    }
   ],
   "source": [
    "factorial = 1\n",
    "for i in range(1, 6+1):\n",
    "    factorial *= i\n",
    "print(factorial)"
   ],
   "metadata": {
    "collapsed": false
   }
  },
  {
   "cell_type": "code",
   "execution_count": null,
   "outputs": [],
   "source": [],
   "metadata": {
    "collapsed": false
   }
  }
 ],
 "metadata": {
  "kernelspec": {
   "display_name": "Python 3",
   "language": "python",
   "name": "python3"
  },
  "language_info": {
   "codemirror_mode": {
    "name": "ipython",
    "version": 2
   },
   "file_extension": ".py",
   "mimetype": "text/x-python",
   "name": "python",
   "nbconvert_exporter": "python",
   "pygments_lexer": "ipython2",
   "version": "2.7.6"
  }
 },
 "nbformat": 4,
 "nbformat_minor": 0
}
