{
 "cells": [
  {
   "cell_type": "markdown",
   "source": [
    "# Algorithme de Deustch_Joza"
   ],
   "metadata": {
    "collapsed": false
   }
  },
  {
   "cell_type": "code",
   "execution_count": 17,
   "outputs": [],
   "source": [
    "from qiskit import QuantumCircuit, QuantumRegister, ClassicalRegister\n",
    "from qiskit import Aer, execute, transpile\n",
    "import random as rd\n",
    "from qiskit import IBMQ\n",
    "from qiskit.tools import job_monitor\n",
    "from qiskit.providers.ibmq import least_busy"
   ],
   "metadata": {
    "collapsed": false
   }
  },
  {
   "cell_type": "markdown",
   "source": [
    "Fonction qui construit le circuit quantique d'un oracle"
   ],
   "metadata": {
    "collapsed": false
   }
  },
  {
   "cell_type": "code",
   "execution_count": 18,
   "outputs": [],
   "source": [
    "# Constante est vrai si la fonction est constante et fausse si la fonction est balancée\n",
    "def oracle_Deustch_Joza(nb_qbits, num_fonction, constante):\n",
    "    qreg = QuantumRegister(nb_qbits+1, \"q\")\n",
    "    circuit = QuantumCircuit(qreg)\n",
    "\n",
    "    # Si la fonction est constante créer le circuit\n",
    "    if constante == True:\n",
    "        if num_fonction == 1:\n",
    "            circuit.x(nb_qbits)\n",
    "        elif num_fonction != 0:\n",
    "            print(\"Il y a uniquement 2 fonction constantes (0 et 1). On suppose que vous avez entré 0\")\n",
    "\n",
    "    # Si la fonction est balancée créer le circuit\n",
    "    elif constante == False:\n",
    "        nb_possibility = 1  #Ne pas compter les possibilitées avec une porte x\n",
    "        for i in range(1, nb_qbits):\n",
    "            nb_possibility *= 2\n",
    "            nb_possibility += 1\n",
    "\n",
    "        #Numéro de la fonction en binaire (les numéros commence à 1, car on veut avoir au moins un 1 dans la chaine de charactère pour avoir une porte cnot)\n",
    "        if num_fonction < nb_possibility:\n",
    "            bit_string = f\"{num_fonction+1:0{nb_qbits}b}\"\n",
    "\n",
    "        #Si le numéro est assez grand, on applique une porte x au dernier qbit et on convertie en binaire pour savoir à quel endroit on veut appliquer les portes cnot\n",
    "        elif num_fonction < nb_possibility * 2:\n",
    "            circuit.x(nb_qbits)\n",
    "            bit_string = f\"{num_fonction+1-nb_possibility:0{nb_qbits}b}\"\n",
    "\n",
    "\n",
    "        #Si le numéro est trop grand\n",
    "        else:\n",
    "            print(\"Le numéro de la fonction est trop élevé\")\n",
    "\n",
    "\n",
    "        # On ajoute les portes cnot\n",
    "        for i in range(nb_qbits):\n",
    "            if bit_string[i] == \"1\":\n",
    "                circuit.cnot(nb_qbits - 1 - i, nb_qbits)\n",
    "    else :\n",
    "        print(\"constante doit être une valeur booléenne\")\n",
    "\n",
    "    return circuit\n",
    "\n"
   ],
   "metadata": {
    "collapsed": false
   }
  },
  {
   "cell_type": "markdown",
   "source": [
    "Fonction qui construit le circuit quantique de l'algorithme"
   ],
   "metadata": {
    "collapsed": false
   }
  },
  {
   "cell_type": "code",
   "execution_count": 19,
   "outputs": [],
   "source": [
    "# Si num_fonction n'est pas entré ou est négatif, le numéro sera choisis au hasard\n",
    "# Si constante(La fonction est-elle constante?) n'est pas égale à True ou False (1 ou 0), la valeur de véritée est choisie au hasard\n",
    "def circuit_Deustch_Jozsa(nb_qbits, num_fonction = - 1, constante = 2):\n",
    "    qreg = QuantumRegister(nb_qbits+1, \"q\")\n",
    "    creg = ClassicalRegister(nb_qbits, \"meas\")\n",
    "    circuit = QuantumCircuit(qreg, creg)\n",
    "\n",
    "    if constante != True and constante !=False:\n",
    "        constante = rd.randint(0, 1)\n",
    "\n",
    "    if constante == True :\n",
    "        type_fonction = \"Constante\"\n",
    "        if num_fonction < 0:\n",
    "            num_fonction = rd.randint(0, 1)\n",
    "        if num_fonction > 1:\n",
    "            print(\"Il y a uniquement 2 fonction constantes (0 et 1). On suppose que vous avez entré 0\")\n",
    "            num_fonction = 0\n",
    "    else :\n",
    "        type_fonction = \"Balancee\"\n",
    "\n",
    "        # Si le numéro de la fonction est négatif, choisir le numéro au hasard parmis toute les possibilitées (avec et sans la porte x cette fois)\n",
    "        if num_fonction < 0:\n",
    "            nb_possibility = 1\n",
    "            for i in range(1, nb_qbits):\n",
    "                nb_possibility *= 2\n",
    "                nb_possibility += 1\n",
    "            nb_possibility *= 2\n",
    "            num_fonction = rd.randint(0, nb_possibility-1)\n",
    "\n",
    "\n",
    "    oracle_gate = oracle_Deustch_Joza(nb_qbits, num_fonction, constante).to_gate(label = f\"{type_fonction}\\nUf\") # Effacer «{type_fonction}/n» si on veut cacher le fait que la fonction soit balancée ou constante\n",
    "\n",
    "    # Ajout des portes avant l'oracle\n",
    "    circuit.x(nb_qbits)\n",
    "    for i in range(nb_qbits+1):\n",
    "        circuit.h(i)\n",
    "\n",
    "    # Ajout de l'oracle\n",
    "    circuit.append(oracle_gate, range(0, nb_qbits+1))\n",
    "\n",
    "    # Ajout des éléments après l'oracle\n",
    "    for i in range(nb_qbits):\n",
    "        circuit.h(i)\n",
    "    for i in range(nb_qbits):\n",
    "        circuit.measure(i, i)\n",
    "\n",
    "\n",
    "    return circuit"
   ],
   "metadata": {
    "collapsed": false
   }
  },
  {
   "cell_type": "markdown",
   "source": [
    "Simulation des circuits quantiques"
   ],
   "metadata": {
    "collapsed": false
   }
  },
  {
   "cell_type": "code",
   "execution_count": 20,
   "outputs": [
    {
     "name": "stdout",
     "output_type": "stream",
     "text": [
      "{'0010': 1000}\n"
     ]
    },
    {
     "data": {
      "text/plain": "<Figure size 998.442x535.111 with 1 Axes>",
      "image/png": "[encoded data removed]"
     },
     "execution_count": 20,
     "metadata": {},
     "output_type": "execute_result"
    }
   ],
   "source": [
    "circuit_hasard = circuit_Deustch_Jozsa(4)\n",
    "\n",
    "qasm_simulator = Aer.get_backend('qasm_simulator')\n",
    "job = execute(circuit_hasard, qasm_simulator, shots = 1000)\n",
    "counts = job.result().get_counts()\n",
    "print(counts)\n",
    "\n",
    "\n",
    "circuit_hasard.draw('mpl')"
   ],
   "metadata": {
    "collapsed": false
   }
  },
  {
   "cell_type": "markdown",
   "source": [
    "Exécution sur un ordinateur quantique de IBM"
   ],
   "metadata": {
    "collapsed": false
   }
  },
  {
   "cell_type": "code",
   "execution_count": 21,
   "outputs": [],
   "source": [
    "#IBMQ.load_account()\n",
    "#provider = IBMQ.get_provider(hub = 'ibm-q',group='open',project='main')\n",
    "##provider = IBMQ.get_provider(hub = 'ibm-q-qida',group='is-quantum-hub',project='algolab')\n",
    "#\n",
    "#for backends in provider.backends(filters=lambda x: not x.configuration().simulator):\n",
    "#    print(backends)\n",
    "#\n",
    "#backend = least_busy(provider.backends(filters=lambda x: x.configuration().n_qubits < 10 and\n",
    "#not x.configuration().simulator and x.status().operational==True))\n",
    "#\n",
    "#\n",
    "#circuit_hasard = circuit_Deustch_Jozsa(4)\n",
    "#job = execute(circuit_hasard, backend, shots = 1000)\n",
    "#job_monitor(job)\n",
    "#counts = job.result().get_counts()\n",
    "#print(counts)\n",
    "#\n",
    "#circuit_hasard.draw('mpl')"
   ],
   "metadata": {
    "collapsed": false
   }
  }
 ],
 "metadata": {
  "kernelspec": {
   "display_name": "Python 3",
   "language": "python",
   "name": "python3"
  },
  "language_info": {
   "codemirror_mode": {
    "name": "ipython",
    "version": 2
   },
   "file_extension": ".py",
   "mimetype": "text/x-python",
   "name": "python",
   "nbconvert_exporter": "python",
   "pygments_lexer": "ipython2",
   "version": "2.7.6"
  }
 },
 "nbformat": 4,
 "nbformat_minor": 0
}
