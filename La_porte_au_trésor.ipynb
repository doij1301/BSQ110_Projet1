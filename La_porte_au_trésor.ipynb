{
  "nbformat": 4,
  "nbformat_minor": 0,
  "metadata": {
    "colab": {
      "provenance": [],
      "collapsed_sections": [],
      "authorship_tag": "ABX9TyM1iRFC8xc81T8YaA6J5yK4",
      "include_colab_link": true
    },
    "kernelspec": {
      "name": "python3",
      "display_name": "Python 3"
    },
    "language_info": {
      "name": "python"
    }
  },
  "cells": [
    {
      "cell_type": "markdown",
      "metadata": {
        "id": "view-in-github",
        "colab_type": "text"
      },
      "source": [
        "<a href=\"https://colab.research.google.com/github/doij1301/BSQ110_Projet1/blob/master/La_porte_au_tr%C3%A9sor.ipynb\" target=\"_parent\"><img src=\"https://colab.research.google.com/assets/colab-badge.svg\" alt=\"Open In Colab\"/></a>"
      ]
    },
    {
      "cell_type": "code",
      "execution_count": 1,
      "metadata": {
        "id": "en2QAOy2-TjY"
      },
      "outputs": [],
      "source": [
        "import numpy as np\n",
        "from math import *"
      ]
    },
    {
      "cell_type": "markdown",
      "source": [
        "# Portes quantiques"
      ],
      "metadata": {
        "id": "-oseA8j2DZRg"
      }
    },
    {
      "cell_type": "code",
      "source": [
        "i_gate = np.array([[1, 0],\n",
        "                   [0, 1]])\n",
        "h_gate = np.sqrt(0.5)*np.array([[1, 1], \n",
        "                                [1, -1]])\n",
        "x_gate = np.array([[0, 1], \n",
        "                   [1, 0]])\n",
        "cx10_gate = np.array([[1, 0, 0, 0],\n",
        "                      [0, 0, 0, 1],\n",
        "                      [0, 0, 1, 0],\n",
        "                      [0, 1, 0, 0]])\n",
        "swap_gate = np.array([[1, 0, 0, 0], \n",
        "                      [0, 0, 1, 0], \n",
        "                      [0, 1, 0, 0], \n",
        "                      [0, 0, 0, 1]])\n",
        "\n",
        "\n"
      ],
      "metadata": {
        "id": "Jp7niVP3-pKK"
      },
      "execution_count": 2,
      "outputs": []
    },
    {
      "cell_type": "markdown",
      "source": [
        "Fonction permettant de définir les portes cnot (autre que cx10)"
      ],
      "metadata": {
        "id": "9QpOfysOGC9r"
      }
    },
    {
      "cell_type": "code",
      "source": [
        "def cx_gate(qbit_controled, qbit_controler):\n",
        "  \n",
        "  if qbit_controled > qbit_controler :\n",
        "    cnot_gate = cx10_gate\n",
        "    i_exponent_gate = np.array([1])\n",
        "    for i in range(qbit_controled - qbit_controler - 1) :\n",
        "      i_exponent_gate = np.kron(i_gate, i_exponent_gate)\n",
        "      cnot_gate = np.kron(swap_gate, i_exponent_gate) @ np.kron(i_gate, cnot_gate) @ np.kron(swap_gate, i_exponent_gate)\n",
        "  \n",
        "  elif qbit_controled < qbit_controler :\n",
        "    cnot_gate = swap_gate @ cx10_gate @ swap_gate\n",
        "    i_exponent_gate = np.array([1])\n",
        "    for i in range(qbit_controler - qbit_controled -1) :\n",
        "      i_exponent_gate = np.kron(i_gate, i_exponent_gate)\n",
        "      cnot_gate = np.kron(swap_gate, i_exponent_gate) @ np.kron(i_gate, cnot_gate) @ np.kron(swap_gate, i_exponent_gate)\n",
        "\n",
        "  else :\n",
        "    print(\"C'est probablement une porte X\")\n",
        "\n",
        "  return cnot_gate\n",
        "\n",
        "cx_gate(0, 2)"
      ],
      "metadata": {
        "id": "-jwE45NJ6p1P",
        "colab": {
          "base_uri": "https://localhost:8080/"
        },
        "outputId": "991d0da4-68e0-483c-a26f-104634f3a562"
      },
      "execution_count": 3,
      "outputs": [
        {
          "output_type": "execute_result",
          "data": {
            "text/plain": [
              "array([[1, 0, 0, 0, 0, 0, 0, 0],\n",
              "       [0, 1, 0, 0, 0, 0, 0, 0],\n",
              "       [0, 0, 1, 0, 0, 0, 0, 0],\n",
              "       [0, 0, 0, 1, 0, 0, 0, 0],\n",
              "       [0, 0, 0, 0, 0, 1, 0, 0],\n",
              "       [0, 0, 0, 0, 1, 0, 0, 0],\n",
              "       [0, 0, 0, 0, 0, 0, 0, 1],\n",
              "       [0, 0, 0, 0, 0, 0, 1, 0]])"
            ]
          },
          "metadata": {},
          "execution_count": 3
        }
      ]
    },
    {
      "cell_type": "markdown",
      "source": [
        "# Initialisation"
      ],
      "metadata": {
        "id": "Wn0kWzYkFLio"
      }
    },
    {
      "cell_type": "code",
      "source": [
        "# matrice équivalente aux 2 portes h\n",
        "hih_gate = np.kron(np.kron(h_gate, i_gate), h_gate)\n",
        "\n",
        "# matrice de la porte cnot (pour le circuit à 3 qbites)\n",
        "icx10_gate = np.kron(i_gate, cx10_gate)\n",
        "\n",
        "# matrice représentant l'initialisation\n",
        "initialisation_gate = icx10_gate @ hih_gate\n",
        "print(initialisation_gate)"
      ],
      "metadata": {
        "colab": {
          "base_uri": "https://localhost:8080/"
        },
        "id": "10e_SbnrDS3f",
        "outputId": "1a03bd7e-43c2-4a9c-989f-26dcbbe8529f"
      },
      "execution_count": 4,
      "outputs": [
        {
          "output_type": "stream",
          "name": "stdout",
          "text": [
            "[[ 0.5  0.5  0.   0.   0.5  0.5  0.   0. ]\n",
            " [ 0.   0.   0.5 -0.5  0.   0.   0.5 -0.5]\n",
            " [ 0.   0.   0.5  0.5  0.   0.   0.5  0.5]\n",
            " [ 0.5 -0.5  0.   0.   0.5 -0.5  0.   0. ]\n",
            " [ 0.5  0.5  0.   0.  -0.5 -0.5  0.   0. ]\n",
            " [ 0.   0.   0.5 -0.5  0.   0.  -0.5  0.5]\n",
            " [ 0.   0.   0.5  0.5  0.   0.  -0.5 -0.5]\n",
            " [ 0.5 -0.5  0.   0.  -0.5  0.5  0.   0. ]]\n"
          ]
        }
      ]
    }
  ]
}