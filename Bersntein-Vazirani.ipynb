{
 "cells": [
  {
   "cell_type": "markdown",
   "source": [
    "#Algorithme de Berstein-Vazirani"
   ],
   "metadata": {
    "collapsed": false
   }
  },
  {
   "cell_type": "markdown",
   "source": [
    "Importations de librairies"
   ],
   "metadata": {
    "collapsed": false
   }
  },
  {
   "cell_type": "code",
   "execution_count": 31,
   "metadata": {
    "collapsed": true
   },
   "outputs": [],
   "source": [
    "from qiskit import QuantumCircuit\n",
    "import numpy as np"
   ]
  },
  {
   "cell_type": "markdown",
   "source": [
    "Fonctions"
   ],
   "metadata": {
    "collapsed": false
   }
  },
  {
   "cell_type": "code",
   "execution_count": 32,
   "outputs": [],
   "source": [
    "def decimal_to_bit_string(decimal):\n",
    "\n",
    "    bits_string = \"\"\n",
    "\n",
    "    print(np.math.log2(decimal))\n",
    "    for i in range(round(np.math.log2(decimal)), 0, -1):\n",
    "        if ((decimal - 2**i) < 0):\n",
    "            bits_string = bits_string + str(0)\n",
    "        else:\n",
    "            bits_string = bits_string + str(1)\n",
    "\n",
    "    return bits_string"
   ],
   "metadata": {
    "collapsed": false
   }
  },
  {
   "cell_type": "markdown",
   "source": [
    "Fonction de création des oracles"
   ],
   "metadata": {
    "collapsed": false
   }
  },
  {
   "cell_type": "code",
   "execution_count": 33,
   "outputs": [],
   "source": [
    "def OracleBersteinVazirani(decimal, num_qubits=0):\n",
    "\n",
    "    bits_string = decimal_to_bit_string(decimal)\n",
    "    string_length = len(bits_string)\n",
    "\n",
    "    qc = QuantumCircuit(string_length + 1, string_length)\n",
    "\n",
    "    string_length = len(bits_string)\n",
    "\n",
    "    for i in range(string_length):\n",
    "        if bits_string[i] == '1':\n",
    "            qc.cx(i, string_length)\n",
    "\n",
    "    return qc"
   ],
   "metadata": {
    "collapsed": false
   }
  },
  {
   "cell_type": "markdown",
   "source": [
    "Fonction pour le circuit de Berstein-Vazirani"
   ],
   "metadata": {
    "collapsed": false
   }
  },
  {
   "cell_type": "code",
   "execution_count": 34,
   "outputs": [],
   "source": [
    "def BersteinVazirani(decimal):\n",
    "\n",
    "    bits_string = decimal_to_bit_string(decimal)\n",
    "    string_length = len(bits_string)\n",
    "\n",
    "    qc = QuantumCircuit(string_length + 1, string_length)\n",
    "\n",
    "    for i in range(string_length):\n",
    "        qc.h(i)\n",
    "\n",
    "    qc.append(OracleBersteinVazirani(decimal), range(0, string_length+1))\n",
    "\n",
    "    for i in range(string_length):\n",
    "        qc.h(i)\n",
    "\n",
    "    return qc"
   ],
   "metadata": {
    "collapsed": false
   }
  },
  {
   "cell_type": "markdown",
   "source": [
    "Éxecution du circuit"
   ],
   "metadata": {
    "collapsed": false
   }
  },
  {
   "cell_type": "code",
   "execution_count": 35,
   "outputs": [
    {
     "ename": "ValueError",
     "evalue": "math domain error",
     "output_type": "error",
     "traceback": [
      "\u001B[0;31m---------------------------------------------------------------------------\u001B[0m",
      "\u001B[0;31mValueError\u001B[0m                                Traceback (most recent call last)",
      "Cell \u001B[0;32mIn [35], line 6\u001B[0m\n\u001B[1;32m      2\u001B[0m bit_string_result \u001B[38;5;241m=\u001B[39m []\n\u001B[1;32m      4\u001B[0m \u001B[38;5;28;01mfor\u001B[39;00m decimal \u001B[38;5;129;01min\u001B[39;00m decimals:\n\u001B[0;32m----> 6\u001B[0m     Bernstein_vazirani_circuit \u001B[38;5;241m=\u001B[39m \u001B[43mBersteinVazirani\u001B[49m\u001B[43m(\u001B[49m\u001B[43mdecimal\u001B[49m\u001B[43m)\u001B[49m\n\u001B[1;32m      7\u001B[0m     Bernstein_vazirani_circuit\u001B[38;5;241m.\u001B[39mmeasure(\u001B[38;5;28mrange\u001B[39m(Bernstein_vazirani_circuit\u001B[38;5;241m.\u001B[39mnum_qubits\u001B[38;5;241m-\u001B[39m\u001B[38;5;241m1\u001B[39m),\n\u001B[1;32m      8\u001B[0m                                        \u001B[38;5;28mrange\u001B[39m(Bernstein_vazirani_circuit\u001B[38;5;241m.\u001B[39mnum_clbits))\n\u001B[1;32m     10\u001B[0m     current_bit_string \u001B[38;5;241m=\u001B[39m []\n",
      "Cell \u001B[0;32mIn [34], line 3\u001B[0m, in \u001B[0;36mBersteinVazirani\u001B[0;34m(decimal)\u001B[0m\n\u001B[1;32m      1\u001B[0m \u001B[38;5;28;01mdef\u001B[39;00m \u001B[38;5;21mBersteinVazirani\u001B[39m(decimal):\n\u001B[0;32m----> 3\u001B[0m     bits_string \u001B[38;5;241m=\u001B[39m \u001B[43mdecimal_to_bit_string\u001B[49m\u001B[43m(\u001B[49m\u001B[43mdecimal\u001B[49m\u001B[43m)\u001B[49m\n\u001B[1;32m      4\u001B[0m     string_length \u001B[38;5;241m=\u001B[39m \u001B[38;5;28mlen\u001B[39m(bits_string)\n\u001B[1;32m      6\u001B[0m     qc \u001B[38;5;241m=\u001B[39m QuantumCircuit(string_length \u001B[38;5;241m+\u001B[39m \u001B[38;5;241m1\u001B[39m, string_length)\n",
      "Cell \u001B[0;32mIn [32], line 5\u001B[0m, in \u001B[0;36mdecimal_to_bit_string\u001B[0;34m(decimal)\u001B[0m\n\u001B[1;32m      1\u001B[0m \u001B[38;5;28;01mdef\u001B[39;00m \u001B[38;5;21mdecimal_to_bit_string\u001B[39m(decimal):\n\u001B[1;32m      3\u001B[0m     bits_string \u001B[38;5;241m=\u001B[39m \u001B[38;5;124m\"\u001B[39m\u001B[38;5;124m\"\u001B[39m\n\u001B[0;32m----> 5\u001B[0m     \u001B[38;5;28mprint\u001B[39m(\u001B[43mnp\u001B[49m\u001B[38;5;241;43m.\u001B[39;49m\u001B[43mmath\u001B[49m\u001B[38;5;241;43m.\u001B[39;49m\u001B[43mlog2\u001B[49m\u001B[43m(\u001B[49m\u001B[43mdecimal\u001B[49m\u001B[43m)\u001B[49m)\n\u001B[1;32m      6\u001B[0m     \u001B[38;5;28;01mfor\u001B[39;00m i \u001B[38;5;129;01min\u001B[39;00m \u001B[38;5;28mrange\u001B[39m(\u001B[38;5;28mround\u001B[39m(np\u001B[38;5;241m.\u001B[39mmath\u001B[38;5;241m.\u001B[39mlog2(decimal)), \u001B[38;5;241m0\u001B[39m, \u001B[38;5;241m-\u001B[39m\u001B[38;5;241m1\u001B[39m):\n\u001B[1;32m      7\u001B[0m         \u001B[38;5;28;01mif\u001B[39;00m ((decimal \u001B[38;5;241m-\u001B[39m \u001B[38;5;241m2\u001B[39m\u001B[38;5;241m*\u001B[39m\u001B[38;5;241m*\u001B[39mi) \u001B[38;5;241m<\u001B[39m \u001B[38;5;241m0\u001B[39m):\n",
      "\u001B[0;31mValueError\u001B[0m: math domain error"
     ]
    }
   ],
   "source": [
    "decimals = [np.random.randint(0,50) for i in range(10)]\n",
    "bit_string_result = []\n",
    "\n",
    "for decimal in decimals:\n",
    "\n",
    "    Bernstein_vazirani_circuit = BersteinVazirani(decimal)\n",
    "    Bernstein_vazirani_circuit.measure(range(Bernstein_vazirani_circuit.num_qubits-1),\n",
    "                                       range(Bernstein_vazirani_circuit.num_clbits))\n",
    "\n",
    "    current_bit_string = []\n",
    "\n",
    "    for i in range (Bernstein_vazirani_circuit.num_clbits):\n",
    "        current_bit_string.append(Bernstein_vazirani_circuit.clbits[i])\n",
    "\n",
    "    bit_string_result.append(current_bit_string)\n",
    "\n",
    "for i in range(len(bit_string_result)):\n",
    "    print(decimals[i])\n",
    "    print(bit_string_result[i])"
   ],
   "metadata": {
    "collapsed": false
   }
  }
 ],
 "metadata": {
  "kernelspec": {
   "display_name": "Python 3",
   "language": "python",
   "name": "python3"
  },
  "language_info": {
   "codemirror_mode": {
    "name": "ipython",
    "version": 2
   },
   "file_extension": ".py",
   "mimetype": "text/x-python",
   "name": "python",
   "nbconvert_exporter": "python",
   "pygments_lexer": "ipython2",
   "version": "2.7.6"
  }
 },
 "nbformat": 4,
 "nbformat_minor": 0
}
