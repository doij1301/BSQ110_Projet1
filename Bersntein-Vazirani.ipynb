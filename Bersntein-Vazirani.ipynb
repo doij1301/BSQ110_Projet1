{
 "cells": [
  {
   "cell_type": "markdown",
   "source": [
    "#Algorithme de Berstein-Vazirani"
   ],
   "metadata": {
    "collapsed": false
   }
  },
  {
   "cell_type": "markdown",
   "source": [
    "Importations de librairies"
   ],
   "metadata": {
    "collapsed": false
   }
  },
  {
   "cell_type": "code",
   "execution_count": 25,
   "metadata": {
    "collapsed": true
   },
   "outputs": [],
   "source": [
    "from qiskit import QuantumCircuit\n",
    "from FonctionsCommune import *\n",
    "import numpy as np"
   ]
  },
  {
   "cell_type": "markdown",
   "source": [
    "Fonctions"
   ],
   "metadata": {
    "collapsed": false
   }
  },
  {
   "cell_type": "markdown",
   "source": [
    "Fonction de création des oracles"
   ],
   "metadata": {
    "collapsed": false
   }
  },
  {
   "cell_type": "code",
   "execution_count": 26,
   "outputs": [],
   "source": [
    "'''Nous avons décidé de ne pas inclure le nombres de qubits en argument car nous\n",
    " avons changé la fonction decimal_in_bit_string qui n'en a donc plus besoin.'''\n",
    "\n",
    "def OracleBersteinVazirani(decimal):\n",
    "\n",
    "    bits_string = decimal_in_bit_string(decimal)\n",
    "    string_length = len(bits_string)\n",
    "\n",
    "    qc = QuantumCircuit(string_length + 1, string_length)\n",
    "\n",
    "    string_length = len(bits_string)\n",
    "\n",
    "    for i in range(string_length):\n",
    "        if bits_string[i] == '1':\n",
    "            qc.cx(i, string_length)\n",
    "\n",
    "    return qc"
   ],
   "metadata": {
    "collapsed": false
   }
  },
  {
   "cell_type": "markdown",
   "source": [
    "Fonction pour le circuit de Berstein-Vazirani"
   ],
   "metadata": {
    "collapsed": false
   }
  },
  {
   "cell_type": "code",
   "execution_count": 27,
   "outputs": [],
   "source": [
    "def BersteinVazirani(decimal):\n",
    "\n",
    "    bits_string = decimal_in_bit_string(decimal)\n",
    "    string_length = len(bits_string)\n",
    "\n",
    "    qc = QuantumCircuit(string_length + 1, string_length)\n",
    "\n",
    "    for i in range(string_length):\n",
    "        qc.h(i)\n",
    "\n",
    "    qc.append(OracleBersteinVazirani(decimal), range(0, string_length+1))\n",
    "\n",
    "    for i in range(string_length):\n",
    "        qc.h(i)\n",
    "\n",
    "    return qc"
   ],
   "metadata": {
    "collapsed": false
   }
  },
  {
   "cell_type": "markdown",
   "source": [
    "Éxecution du circuit"
   ],
   "metadata": {
    "collapsed": false
   }
  },
  {
   "cell_type": "code",
   "execution_count": 28,
   "outputs": [
    {
     "ename": "TypeError",
     "evalue": "decimal_in_bit_string() missing 1 required positional argument: 'nb_qbits'",
     "output_type": "error",
     "traceback": [
      "\u001B[1;31m---------------------------------------------------------------------------\u001B[0m",
      "\u001B[1;31mTypeError\u001B[0m                                 Traceback (most recent call last)",
      "Cell \u001B[1;32mIn [28], line 6\u001B[0m\n\u001B[0;32m      2\u001B[0m bit_string_result \u001B[38;5;241m=\u001B[39m []\n\u001B[0;32m      4\u001B[0m \u001B[38;5;28;01mfor\u001B[39;00m decimal \u001B[38;5;129;01min\u001B[39;00m decimals:\n\u001B[1;32m----> 6\u001B[0m     Bernstein_vazirani_circuit \u001B[38;5;241m=\u001B[39m \u001B[43mBersteinVazirani\u001B[49m\u001B[43m(\u001B[49m\u001B[43mdecimal\u001B[49m\u001B[43m)\u001B[49m\n\u001B[0;32m      7\u001B[0m     Bernstein_vazirani_circuit\u001B[38;5;241m.\u001B[39mmeasure(\u001B[38;5;28mrange\u001B[39m(Bernstein_vazirani_circuit\u001B[38;5;241m.\u001B[39mnum_qubits\u001B[38;5;241m-\u001B[39m\u001B[38;5;241m1\u001B[39m),\n\u001B[0;32m      8\u001B[0m                                        \u001B[38;5;28mrange\u001B[39m(Bernstein_vazirani_circuit\u001B[38;5;241m.\u001B[39mnum_clbits))\n\u001B[0;32m     10\u001B[0m     current_bit_string \u001B[38;5;241m=\u001B[39m []\n",
      "Cell \u001B[1;32mIn [27], line 3\u001B[0m, in \u001B[0;36mBersteinVazirani\u001B[1;34m(decimal)\u001B[0m\n\u001B[0;32m      1\u001B[0m \u001B[38;5;28;01mdef\u001B[39;00m \u001B[38;5;21mBersteinVazirani\u001B[39m(decimal):\n\u001B[1;32m----> 3\u001B[0m     bits_string \u001B[38;5;241m=\u001B[39m \u001B[43mdecimal_in_bit_string\u001B[49m\u001B[43m(\u001B[49m\u001B[43mdecimal\u001B[49m\u001B[43m)\u001B[49m\n\u001B[0;32m      4\u001B[0m     string_length \u001B[38;5;241m=\u001B[39m \u001B[38;5;28mlen\u001B[39m(bits_string)\n\u001B[0;32m      6\u001B[0m     qc \u001B[38;5;241m=\u001B[39m QuantumCircuit(string_length \u001B[38;5;241m+\u001B[39m \u001B[38;5;241m1\u001B[39m, string_length)\n",
      "\u001B[1;31mTypeError\u001B[0m: decimal_in_bit_string() missing 1 required positional argument: 'nb_qbits'"
     ]
    }
   ],
   "source": [
    "decimals = [np.random.randint(0,50) for i in range(10)]\n",
    "bit_string_result = []\n",
    "\n",
    "for decimal in decimals:\n",
    "\n",
    "    Bernstein_vazirani_circuit = BersteinVazirani(decimal)\n",
    "    Bernstein_vazirani_circuit.measure(range(Bernstein_vazirani_circuit.num_qubits-1),\n",
    "                                       range(Bernstein_vazirani_circuit.num_clbits))\n",
    "\n",
    "    current_bit_string = []\n",
    "\n",
    "    for i in range (Bernstein_vazirani_circuit.num_clbits):\n",
    "        current_bit_string.append(Bernstein_vazirani_circuit.clbits[i])\n",
    "\n",
    "    bit_string_result.append(current_bit_string)\n",
    "\n",
    "for i in range(len(bit_string_result)):\n",
    "    print(decimals[i])\n",
    "    print(bit_string_result[i])"
   ],
   "metadata": {
    "collapsed": false
   }
  }
 ],
 "metadata": {
  "kernelspec": {
   "display_name": "Python 3",
   "language": "python",
   "name": "python3"
  },
  "language_info": {
   "codemirror_mode": {
    "name": "ipython",
    "version": 2
   },
   "file_extension": ".py",
   "mimetype": "text/x-python",
   "name": "python",
   "nbconvert_exporter": "python",
   "pygments_lexer": "ipython2",
   "version": "2.7.6"
  }
 },
 "nbformat": 4,
 "nbformat_minor": 0
}
