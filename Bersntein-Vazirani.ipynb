{
 "cells": [
  {
   "cell_type": "markdown",
   "source": [
    "#Algorithme de Berstein-Vazirani"
   ],
   "metadata": {
    "collapsed": false
   }
  },
  {
   "cell_type": "markdown",
   "source": [
    "Imports"
   ],
   "metadata": {
    "collapsed": false
   }
  },
  {
   "cell_type": "code",
   "execution_count": null,
   "metadata": {
    "collapsed": true
   },
   "outputs": [],
   "source": [
    "def OracleBersteinVazirani(n_qubits, bits_string):\n",
    "    string_length = len(string)\n",
    "\n",
    "    qc = QuantumCircuit(string_length + 1, string_length)\n",
    "\n",
    "    for i in range(string_length):\n",
    "        qc.h(i)\n",
    "\n",
    "    qc.x(string_length)\n",
    "    qc.h(string_length)\n",
    "\n",
    "    string = string[::-1]\n",
    "\n",
    "    for i in range(string_length):\n",
    "        if string[i] == '1':\n",
    "            qc.cx(i, string_length)\n",
    "\n",
    "    for i in range(string_length):\n",
    "        qc.h(i)\n",
    "\n",
    "    qc.measure(range(string_length), range(string_length))\n",
    "\n",
    "    return qc"
   ]
  }
 ],
 "metadata": {
  "kernelspec": {
   "display_name": "Python 3",
   "language": "python",
   "name": "python3"
  },
  "language_info": {
   "codemirror_mode": {
    "name": "ipython",
    "version": 2
   },
   "file_extension": ".py",
   "mimetype": "text/x-python",
   "name": "python",
   "nbconvert_exporter": "python",
   "pygments_lexer": "ipython2",
   "version": "2.7.6"
  }
 },
 "nbformat": 4,
 "nbformat_minor": 0
}
